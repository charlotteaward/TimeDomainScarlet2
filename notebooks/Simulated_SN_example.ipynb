{
 "cells": [
  {
   "cell_type": "code",
   "execution_count": 1,
   "id": "e728c4b6",
   "metadata": {},
   "outputs": [],
   "source": [
    "# specify to reload any packages that are changed\n",
    "# helps with not having to restart the kernel each time\n",
    "%load_ext autoreload\n",
    "%autoreload 2"
   ]
  },
  {
   "cell_type": "code",
   "execution_count": 2,
   "id": "b55f41cf",
   "metadata": {},
   "outputs": [
    {
     "name": "stdout",
     "output_type": "stream",
     "text": [
      "/home/cw1074/HSC/pulsars/scarlet/scarlet/__init__.py\n"
     ]
    },
    {
     "name": "stderr",
     "output_type": "stream",
     "text": [
      "/home/cw1074/.conda/envs/scarlet/lib/python3.10/site-packages/tqdm/auto.py:21: TqdmWarning: IProgress not found. Please update jupyter and ipywidgets. See https://ipywidgets.readthedocs.io/en/stable/user_install.html\n",
      "  from .autonotebook import tqdm as notebook_tqdm\n"
     ]
    },
    {
     "name": "stdout",
     "output_type": "stream",
     "text": [
      "/home/cw1074/scarletmultisource/scarlet2/scarlet2/__init__.py\n"
     ]
    }
   ],
   "source": [
    "import numpy as np\n",
    "import sys\n",
    "import copy\n",
    "import corner \n",
    "import jax\n",
    "sys.path.insert(0,'/home/cw1074/scarletmultisource/scarlet2')\n",
    "sys.path.insert(0,'/home/cw1074/HSC/pulsars/scarlet')\n",
    "import os\n",
    "import scarlet\n",
    "print(scarlet.__file__)\n",
    "import astropy.io.fits as fits\n",
    "from astropy.wcs import WCS\n",
    "from scarlet.display import AsinhMapping,AsinhPercentileNorm,show_scarlet2_scene,LinearPercentileNorm\n",
    "import glob\n",
    "import sep\n",
    "import tarfile\n",
    "import matplotlib\n",
    "import matplotlib.pyplot as plt\n",
    "import numpyro.distributions as dist\n",
    "import astropy.units as u\n",
    "from astropy.coordinates import SkyCoord\n",
    "from astropy.time import Time\n",
    "from astropy.wcs import WCS\n",
    "from scarlet.source import StaticSource,MultiExtendedSource, StaticMultiExtendedSource\n",
    "import jax.numpy as jnp\n",
    "import equinox as eqx\n",
    "from jax import random, jit\n",
    "import distrax\n",
    "import optax\n",
    "from tqdm.auto import tqdm\n",
    "import pandas as pd\n",
    "from numpyro.distributions import constraints\n",
    "import cmasher as cmr\n",
    "from scarlet2 import *\n",
    "import scarlet2\n",
    "from skimage import draw\n",
    "print(scarlet2.__file__)\n",
    "# use a better colormap and don't interpolate the pixels\n",
    "matplotlib.rc('image', cmap='gray', interpolation='none', origin='lower')"
   ]
  },
  {
   "cell_type": "code",
   "execution_count": 3,
   "id": "4cda8b70",
   "metadata": {},
   "outputs": [],
   "source": [
    "def set_plot_style(doit=True,serif=True,use_tex=True):\n",
    "    from matplotlib import cycler\n",
    "    new_rcparams = {\n",
    "        # Set color cycle: blue, green, yellow, red, violet, gray\n",
    "        #'#axes.prop_cycle' : cycler('color', ['0C5DA5', '00B945', 'FF9500', 'FF2C00', '845B97', '474747', '9e9e9e']),\n",
    "        # Set color cycle: blue, orange, green, red, violet, gray\n",
    "        'axes.prop_cycle' : cycler('color', ['0C5DA5', 'FF9500', '00B945', 'FF2C00', '845B97', '474747', '9e9e9e']),\n",
    "        # Set default figure size\n",
    "        'figure.figsize' : (4*1.5, 3*1.5),\n",
    "        # Set x axis\n",
    "        'xtick.direction' : 'in',\n",
    "        'xtick.major.size' : 3*2,\n",
    "        'xtick.major.width' : 0.5,\n",
    "        'xtick.minor.size' : 1.5*2,\n",
    "        'xtick.minor.width' : 0.5,\n",
    "        'xtick.minor.visible' : True,\n",
    "        'xtick.top' : True,\n",
    "        # Set y axis\n",
    "        'ytick.direction' : 'in',\n",
    "        'ytick.major.size' : 3*2,\n",
    "        'ytick.major.width' : 0.5,\n",
    "        'ytick.minor.size' : 1.5*2,\n",
    "        'ytick.minor.width' : 0.5,\n",
    "        'ytick.minor.visible' : True,\n",
    "        'ytick.right' : True,\n",
    "        # Set line widths\n",
    "        'axes.linewidth' : 0.5,\n",
    "        'grid.linewidth' : 0.5,\n",
    "        'lines.linewidth' : 1.,\n",
    "        # Remove legend' frame\n",
    "        'legend.frameon' : True,\n",
    "        # Always save as 'tight'\n",
    "        'savefig.bbox' : 'tight',\n",
    "        'savefig.pad_inches' : 0.05,\n",
    "    }\n",
    "    if use_tex:\n",
    "        new_rcparams.update({\n",
    "            # Use LaTeX for math formatting\n",
    "            'text.usetex' : True,\n",
    "            'text.latex.preamble' : r'\\usepackage{amsmath}'\n",
    "            })\n",
    "    if serif:\n",
    "        new_rcparams.update({\n",
    "            # Use serif fonts\n",
    "            'font.serif' : 'Times New Roman',\n",
    "            'font.family' : 'serif',\n",
    "            'mathtext.fontset' : 'dejavuserif',\n",
    "            'legend.fontsize' : 'large',\n",
    "            'xtick.labelsize' : 'x-large',\n",
    "            'ytick.labelsize' : 'x-large',\n",
    "            'axes.labelsize' : 'xx-large',\n",
    "            })\n",
    "    if doit:\n",
    "        plt.rcParams.update(new_rcparams)\n",
    "    else:\n",
    "        return new_rcparams\n",
    "set_plot_style()\n",
    "plt.rcParams[\"font.family\"] = \"Serif\""
   ]
  },
  {
   "cell_type": "markdown",
   "id": "dd6de60e",
   "metadata": {},
   "source": [
    "Provide name and position of source, desired bands, and location of image data."
   ]
  },
  {
   "cell_type": "code",
   "execution_count": 4,
   "id": "1047290a",
   "metadata": {},
   "outputs": [
    {
     "name": "stdout",
     "output_type": "stream",
     "text": [
      "/scratch/gpfs/cw1074/HSCdata/multiressingleshift_priorimage/SNoff0.75_5_2.0/plots\n"
     ]
    }
   ],
   "source": [
    "getphotometry = True\n",
    "getgalaxySED = False\n",
    "getoffset = True\n",
    "ra = 149.72718\n",
    "dec = 2.02325\n",
    "bandall=['g','i','r']\n",
    "SNR = 5\n",
    "shifts = [0.0,0.05,0.2,0.5,0.75,1.0,1.5]\n",
    "pixscale=5\n",
    "shiftmultiple=5\n",
    "\n",
    "for shift in shifts[4:5]:\n",
    "    galSNratio = 2.0\n",
    "    srcname = 'SNoff'+str(shift)+'_'+str(SNR)+'_'+str(galSNratio)\n",
    "    bandall=['g','r','i']\n",
    "src = srcname\n",
    "datadir='/scratch/gpfs/cw1074/HSCdata/multiressingleshift_priorimage'#'../data/'\n",
    "imagedir = datadir+'/'+src\n",
    "if not os.path.isdir(imagedir):\n",
    "    os.mkdir(imagedir)\n",
    "plotdir = datadir+'/'+src+'/plots'\n",
    "print(plotdir)\n",
    "if not os.path.isdir(plotdir):\n",
    "    os.mkdir(plotdir)\n",
    "\n",
    "coord_transient = SkyCoord(ra*u.deg, dec*u.deg, frame='icrs')\n"
   ]
  },
  {
   "cell_type": "markdown",
   "id": "afbd99ff",
   "metadata": {},
   "source": [
    "Define a function which stacks the images and performs source detection on the stack"
   ]
  },
  {
   "cell_type": "code",
   "execution_count": 5,
   "id": "7fce9dee",
   "metadata": {},
   "outputs": [],
   "source": [
    "def makeCatalog(observations, lvl=3, wave=True):\n",
    "    normed_images = np.asarray([obs.data for obs in observations])\n",
    "    interps = [scarlet.interpolation.interpolate_observation(obs, observations[0]) for obs in observations]\n",
    "    interps = np.asarray(interps/np.sum(interps))\n",
    "    detect_image = np.sum(interps,axis=(0,1))\n",
    "    # Wavelet transform\n",
    "    wave_detect = scarlet.Starlet.from_image(detect_image).coefficients\n",
    "\n",
    "    if wave:\n",
    "        # Creates detection from the first 3 wavelet levels\n",
    "        detect = wave_detect[:lvl,:,:].sum(axis = 0)\n",
    "    else:\n",
    "        detect = detect_image\n",
    "\n",
    "        # Runs SEP detection\n",
    "    bkg = sep.Background(detect)\n",
    "    catalog = sep.extract(detect-bkg.globalback, 3, err=bkg.globalrms)\n",
    "    background=[]\n",
    "    bg_rms=[]\n",
    "    for obs in observations:\n",
    "        img = obs.data\n",
    "        if np.size(img.shape) == 3:\n",
    "            bg_rms.append(np.array([sep.Background(band).globalrms for band in img]))\n",
    "            background.append(np.array([sep.Background(band).globalback for band in img]))\n",
    "        else:\n",
    "            bg_rms.append(sep.Background(img).globalrms)\n",
    "            background.append(sep.Background(img).globalback)\n",
    "    return catalog, bg_rms, detect_image, background"
   ]
  },
  {
   "cell_type": "markdown",
   "id": "86a39ff1",
   "metadata": {},
   "source": [
    "For each band, obtain the science, weight and PSF images. Loop over each image and create scarlet1 and scarlet2 observation objects."
   ]
  },
  {
   "cell_type": "code",
   "execution_count": 6,
   "id": "c37cbfa4",
   "metadata": {},
   "outputs": [
    {
     "name": "stdout",
     "output_type": "stream",
     "text": [
      "/scratch/gpfs/cw1074/HSCdata/multiressingleshift_priorimage/SNoff0.75_5_2.0/SNoff0.75_5_2.0_lsstg_*highres*[0-9].fits\n"
     ]
    },
    {
     "name": "stderr",
     "output_type": "stream",
     "text": [
      "No GPU/TPU found, falling back to CPU. (Set TF_CPP_MIN_LOG_LEVEL=0 and rerun for more info.)\n"
     ]
    },
    {
     "name": "stdout",
     "output_type": "stream",
     "text": [
      "/scratch/gpfs/cw1074/HSCdata/multiressingleshift_priorimage/SNoff0.75_5_2.0/SNoff0.75_5_2.0_lsstr_*highres*[0-9].fits\n",
      "/scratch/gpfs/cw1074/HSCdata/multiressingleshift_priorimage/SNoff0.75_5_2.0/SNoff0.75_5_2.0_lssti_*highres*[0-9].fits\n",
      "[('g', '0'), ('g', '1'), ('g', '2'), ('g', '3'), ('g', '4'), ('g', '5'), ('g', '6'), ('g', '7'), ('g', '8'), ('g', '9'), ('g', '10'), ('g', '11'), ('g', '12'), ('g', '13'), ('g', '14'), ('r', '0'), ('r', '1'), ('r', '2'), ('r', '3'), ('r', '4'), ('r', '5'), ('r', '6'), ('r', '7'), ('r', '8'), ('r', '9'), ('r', '10'), ('r', '11'), ('r', '12'), ('r', '13'), ('r', '14'), ('i', '0'), ('i', '1'), ('i', '2'), ('i', '3'), ('i', '4'), ('i', '5'), ('i', '6'), ('i', '7'), ('i', '8'), ('i', '9'), ('i', '10'), ('i', '11'), ('i', '12'), ('i', '13'), ('i', '14')] [('g', '0'), ('g', '1'), ('g', '3'), ('g', '5'), ('g', '6'), ('g', '9'), ('g', '11'), ('g', '14'), ('r', '0'), ('r', '1'), ('r', '2'), ('r', '3'), ('r', '5'), ('r', '6'), ('r', '8'), ('r', '13'), ('i', '1'), ('i', '4'), ('i', '7'), ('i', '8'), ('i', '9'), ('i', '10'), ('i', '11'), ('i', '14')]\n"
     ]
    }
   ],
   "source": [
    "observations=[]\n",
    "observations_sc2_old=[]\n",
    "channels=[]\n",
    "channels_sc2 =[]\n",
    "channels_zeroed=[]\n",
    "times=[]\n",
    "zps =[]\n",
    "norms=[]\n",
    "for band in bandall:\n",
    "    imageout=[]\n",
    "    psfs=[]\n",
    "    images = glob.glob(imagedir+'/'+srcname+'_lsst'+band+'_*highres*[0-9].fits')#glob.glob(imagedir+'/warps-HSC-'+band+'-*-pdr3_dud*/warp-*.fits')\n",
    "    print(imagedir+'/'+srcname+'_lsst'+band+'_*highres*[0-9].fits')\n",
    "    for i,fn in enumerate(images):\n",
    "        matches = [images[i].rstrip('.fits')+'_epsf.fits']#glob.glob(imagedir+'/SN-lsst'+band+'*_epsf.fits')\n",
    "        if len(matches)>0:\n",
    "                imageout.append(fn)\n",
    "                psfs.append(matches[0])\n",
    "\n",
    "        for img,psf in zip(imageout,psfs):\n",
    "            obs_hdu = fits.open(img)\n",
    "            data_hsc = obs_hdu[0].data.byteswap().newbyteorder()\n",
    "            N1, N2 = data_hsc.shape\n",
    "            data_hsc = data_hsc.reshape(1, N1, N2)\n",
    "\n",
    "    for ind,(img,psf) in enumerate(zip(imageout,psfs)):\n",
    "        obs_hdu = fits.open(img)\n",
    "        try:\n",
    "            mjd = Time(img.strip('.fits').split('_')[-1],format='mjd').mjd#Time(obs_hdu[0].header['DATE-AVG'],format='isot',scale='utc').mjd\n",
    "        except KeyError:\n",
    "            print('No time')\n",
    "            continue\n",
    "        data_hsc = obs_hdu[0].data.byteswap().newbyteorder()\n",
    "        N1, N2 = data_hsc.shape\n",
    "        data_hsc = data_hsc.reshape(1, N1, N2)\n",
    "        weight_hsc=np.ones(data_hsc.shape)\n",
    "        wcs_hsc = WCS(obs_hdu[0].header)\n",
    "        channel = [band+str(ind)]\n",
    "        channel_sc2 = (band, str(ind)) \n",
    "        channels.append(band+str(ind))\n",
    "        channels_sc2.append(channel_sc2)\n",
    "        if mjd>56160:\n",
    "            channels_zeroed.append(channel_sc2)\n",
    "        psf_hsc0 = fits.open(psf)[0].data\n",
    "        Np1, Np2 = psf_hsc0.shape\n",
    "        p1,p2=psf_hsc0.shape\n",
    "        psf_hsc = scarlet.ImagePSF(psf_hsc0)\n",
    "        r=1\n",
    "        \n",
    "        obs_hsc = scarlet.Observation(data_hsc,\n",
    "                wcs=wcs_hsc,\n",
    "                psf=psf_hsc,\n",
    "                channels=channel,\n",
    "                weights=weight_hsc)\n",
    "        observations.append(obs_hsc)\n",
    "        times.append(mjd)\n",
    "        obs_sc2 = scarlet2.Observation(jnp.asarray(data_hsc), jnp.asarray(weight_hsc), psf=scarlet2.ArrayPSF(jnp.asarray([psf_hsc0,])),channels=[channel_sc2],wcs=wcs_hsc)\n",
    "        observations_sc2_old.append(obs_sc2)\n",
    "        norms.append(AsinhPercentileNorm(data_hsc,percentiles=[1,95]))#norms.append(AsinhMapping(minimum=-1, stretch=5, Q=3))\n",
    "epochs = np.asarray([obs.channels[0][0] for obs in observations])\n",
    "bands0,inds0 = np.unique([obs.channels[0][0] for obs in observations],return_index=True)\n",
    "bands = epochs[inds0]\n",
    "\n",
    "model_psf = scarlet.GaussianPSF(sigma=0.7)\n",
    "model_frame,offset = scarlet.Frame.from_observations(observations, coverage='intersection', model_psf=model_psf)\n",
    "frame_psf_sc2 = scarlet2.GaussianPSF(0.7)\n",
    "model_frame_sc2 = scarlet2.Frame(scarlet2.Box((len(observations_sc2_old),observations_sc2_old[0].data.shape[-1],observations_sc2_old[0].data.shape[-2])), psf=frame_psf_sc2, channels=channels_sc2,wcs=wcs_hsc)\n",
    "\n",
    "print(channels_sc2,channels_zeroed)\n"
   ]
  },
  {
   "cell_type": "markdown",
   "id": "17010022",
   "metadata": {},
   "source": [
    "Run source detection to create a catalog of source positions. Subtract background from images."
   ]
  },
  {
   "cell_type": "code",
   "execution_count": 7,
   "id": "9ebf242b",
   "metadata": {},
   "outputs": [],
   "source": [
    "lvl = 1\n",
    "wave = 1\n",
    "#Obtain source catalog and background flux estimation from our makeCatalog function\n",
    "catalog_single, bgsingle, detectsingle, globalback = makeCatalog(observations, lvl, wave)\n",
    "obssinglearr=np.asarray(observations)\n",
    "bgsinglearr=np.asfarray(bgsingle)\n",
    "pixel = np.stack((catalog_single['y'], catalog_single['x']), axis=1)\n",
    "ra_dec = [obs.get_sky_coord(pixel) for obs in obssinglearr][0]\n",
    "observations_sc2=[]\n",
    "normsingle=[]\n",
    "for ind,(obs,obs2,bg,back) in enumerate(zip(observations,observations_sc2_old,bgsingle,globalback)):\n",
    "    #Reset weights based on background estimate (if needed)\n",
    "    #obs.weights = np.ones(obs.shape) / (bg**2)[:, None, None]#(bg**2)[:, None, None]\n",
    "    #Subtract background flux if needed\n",
    "    #obs.data = obs.data-back\n",
    "    #obs2.data = obs2.data - back\n",
    "    obs_sc2 = scarlet2.Observation(jnp.asarray(obs.data), jnp.asarray(obs.weights), psf=scarlet2.ArrayPSF(jnp.asarray(obs.psf.get_model())),channels=[channels_sc2[ind]],wcs=wcs_hsc)\n",
    "    observations_sc2.append(obs_sc2)\n",
    "    #Store norm based on observation data\n",
    "    normsingle.append(LinearPercentileNorm(obs.data,percentiles=[0.1, 99.9]))\n",
    "    \n",
    "for obs in observations_sc2:\n",
    "    obs.match(model_frame_sc2)"
   ]
  },
  {
   "cell_type": "markdown",
   "id": "490fbfcc",
   "metadata": {},
   "source": [
    "Plot the first couple of images"
   ]
  },
  {
   "cell_type": "code",
   "execution_count": 8,
   "id": "96f91036",
   "metadata": {},
   "outputs": [
    {
     "name": "stdout",
     "output_type": "stream",
     "text": [
      "(2, 2)\n"
     ]
    },
    {
     "data": {
      "image/png": "[encoded data removed]",
      "text/plain": [
       "<Figure size 800x400 with 2 Axes>"
      ]
     },
     "metadata": {},
     "output_type": "display_data"
    }
   ],
   "source": [
    "print(np.asarray(ra_dec).shape)\n",
    "if np.asarray(ra_dec).shape==(2,):\n",
    "    for ind,(obs, norm) in enumerate(zip(observations[:1], normsingle[:1])):\n",
    "        scarlet.display.show_observation(obs, norm=norm, sky_coords=[ra_dec], show_psf=True)\n",
    "else:    \n",
    "    for ind,(obs, norm) in enumerate(zip(observations[:1], normsingle[:1])):\n",
    "        scarlet.display.show_observation(obs, norm=norm, sky_coords=ra_dec, show_psf=True)\n",
    "    "
   ]
  },
  {
   "cell_type": "code",
   "execution_count": 9,
   "id": "ce9b6e63",
   "metadata": {},
   "outputs": [],
   "source": [
    "if np.asarray(ra_dec).shape==(2,):\n",
    "    separ=[0]\n",
    "    indtransient=0\n",
    "else:\n",
    "    c2 = [SkyCoord(ra*u.deg,dec*u.deg,frame='icrs') for ra,dec in ra_dec]\n",
    "    separ = [coord_transient.separation(c).arcsecond for c in c2]\n",
    "    indtransient = np.argmin(separ)"
   ]
  },
  {
   "cell_type": "code",
   "execution_count": 10,
   "id": "74b31440",
   "metadata": {},
   "outputs": [],
   "source": [
    "epochs = np.asarray([obs.channels[0][0] for obs in observations])\n",
    "bands0,inds0 = np.unique([obs.channels[0][0] for obs in observations],return_index=True)\n",
    "bands = epochs[inds0]\n",
    "bandind = [np.argwhere(bands==e)[0][0] for e in epochs]"
   ]
  },
  {
   "cell_type": "markdown",
   "id": "754399cb",
   "metadata": {},
   "source": [
    "Define the scarlet2 PSF model and model frame. Match the model frame to the observations."
   ]
  },
  {
   "cell_type": "code",
   "execution_count": 11,
   "id": "fdca2b35",
   "metadata": {},
   "outputs": [],
   "source": [
    "frame_psf_sc2 = scarlet2.GaussianPSF(0.7)\n",
    "model_frame_sc2 = scarlet2.Frame(scarlet2.Box((len(observations_sc2),observations_sc2[0].data.shape[-2],observations_sc2[0].data.shape[-1])), psf=frame_psf_sc2, channels=channels_sc2,wcs=wcs_hsc)\n",
    "\n",
    "for obs in observations_sc2:\n",
    "    obs.match(model_frame_sc2)"
   ]
  },
  {
   "cell_type": "markdown",
   "id": "b6390343",
   "metadata": {},
   "source": [
    "Initialize scarlet2 sources "
   ]
  },
  {
   "cell_type": "code",
   "execution_count": 1,
   "id": "6df0f680",
   "metadata": {},
   "outputs": [
    {
     "name": "stderr",
     "output_type": "stream",
     "text": [
      "No GPU/TPU found, falling back to CPU. (Set TF_CPP_MIN_LOG_LEVEL=0 and rerun for more info.)\n"
     ]
    },
    {
     "ename": "ModuleNotFoundError",
     "evalue": "No module named 'scarlet2'",
     "output_type": "error",
     "traceback": [
      "\u001b[0;31m---------------------------------------------------------------------------\u001b[0m",
      "\u001b[0;31mModuleNotFoundError\u001b[0m                       Traceback (most recent call last)",
      "Cell \u001b[0;32mIn[1], line 6\u001b[0m\n\u001b[1;32m      4\u001b[0m gal_step \u001b[38;5;241m=\u001b[39m \u001b[38;5;241m2e-3\u001b[39m\n\u001b[1;32m      5\u001b[0m AGN_step \u001b[38;5;241m=\u001b[39m \u001b[38;5;241m2e-3\u001b[39m\n\u001b[0;32m----> 6\u001b[0m \u001b[38;5;28;01mfrom\u001b[39;00m \u001b[38;5;21;01mscarlet2\u001b[39;00m \u001b[38;5;28;01mimport\u001b[39;00m nn\n\u001b[1;32m      7\u001b[0m model_size \u001b[38;5;241m=\u001b[39m \u001b[38;5;241m64\u001b[39m\n\u001b[1;32m      9\u001b[0m prior \u001b[38;5;241m=\u001b[39m nn\u001b[38;5;241m.\u001b[39mScorePrior(\n\u001b[1;32m     10\u001b[0m             model\u001b[38;5;241m=\u001b[39mHSC_ScoreNet64\n\u001b[1;32m     11\u001b[0m         )\n",
      "\u001b[0;31mModuleNotFoundError\u001b[0m: No module named 'scarlet2'"
     ]
    }
   ],
   "source": [
    "from galaxygrad import HSC_ScoreNet64, ZTF_ScoreNet64\n",
    "\n",
    "stepnum=600\n",
    "gal_step = 2e-3\n",
    "AGN_step = 2e-3\n",
    "from scarlet2 import nn\n",
    "model_size = 64\n",
    "\n",
    "prior = nn.ScorePrior(\n",
    "            model=HSC_ScoreNet64\n",
    "        )\n",
    "with scarlet2.Scene(model_frame_sc2) as scene:\n",
    "    for i,pos in enumerate(ra_dec):      \n",
    "        coord = SkyCoord(pos[0],pos[1],unit=\"deg\")\n",
    "        pospix = np.asfarray(observations_sc2_old[0].frame.wcs.world_to_pixel(coord))\n",
    "        center = jnp.asarray(np.asfarray([pos[0],pos[1]]))\n",
    "        centerpix = jnp.asarray([pospix[1],pospix[0]])\n",
    "        print(ra_dec.shape,'CENTER',center,centerpix)\n",
    "        if i==indtransient:    \n",
    "            flux = initialization.pixel_spectrum(observations_sc2, center)\n",
    "            flux = jnp.asarray(np.asarray(flux)[:,0]) \n",
    "            print(flux)\n",
    "           \n",
    "            n_steps, peak_value2 = stepnum, jnp.max(flux[~np.isinf(flux)])\n",
    "\n",
    "            schedule3 = optax.cosine_onecycle_schedule(n_steps, peak_value2, final_div_factor=1)\n",
    "            AGN_step = lambda p: scarlet2.relative_step(p, factor=5e-4)\n",
    "            test_step_agn =1e-3*peak_value2\n",
    "            \n",
    "            scarlet2.PointSource(\n",
    "                    centerpix,\n",
    "                    scarlet2.TransientArraySpectrum(jnp.asarray(flux),epochs = channels_zeroed))#, stepsize=AGN_step, constraint=constraints.positive), epochs = channels_zeroed)#,constraint = scarlet2.PositiveConstraint())\n",
    "                \n",
    "            if ra_dec.shape[0]==1:\n",
    "                flux = initialization.pixel_spectrum(observations_sc2, center)\n",
    "                flux = jnp.asarray(np.asarray(flux)[:,0][inds0]) \n",
    "                morph_init = initialization.adaptive_gaussian_morph(observations_sc2[0], center) + 1e-6\n",
    "                print('Making host at position of transient',flux,np.min(morph_init))\n",
    "                morph_init[morph_init<1e-12] = 1e-12\n",
    "                n_steps, peak_value = stepnum, 1\n",
    "\n",
    "                schedule = optax.cosine_onecycle_schedule(n_steps, peak_value, final_div_factor=1)\n",
    "                morph_step = lambda p: scarlet2.relative_step(p, factor=1e-3)#lambda p, it: scarlet2.relative_step(p, factor=2e-3) * schedule(it)\n",
    "                \n",
    "                test_step_morph =2e-3*peak_value\n",
    "                n_steps, peak_value2 = stepnum, jnp.max(flux[~np.isinf(flux)])\n",
    "\n",
    "\n",
    "                schedule2 = optax.cosine_onecycle_schedule(n_steps, peak_value2, final_div_factor=1)\n",
    "                gal_step = lambda p: scarlet2.relative_step(p, factor=5e-4)#lambda p, it: scarlet2.relative_step(p, factor=2e-3) * schedule(it)\n",
    "                test_step_gal =5e-3*peak_value2\n",
    "                scarlet2.Source(\n",
    "                    center,\n",
    "                    scarlet2.StaticArraySpectrum(jnp.asarray(flux),filters=bandall),\n",
    "                    scarlet2.ArrayMorphology(morph_init))\n",
    "                   \n",
    "        else:\n",
    "            \n",
    "            flux = jnp.asarray(np.asarray(initialization.pixel_spectrum(observations_sc2, center))[:,0][inds0])\n",
    "            morph_init = initialization.adaptive_gaussian_morph(observations_sc2[0], center) + 1e-12\n",
    "            print('Making other galaxy',flux,np.sum(np.isnan(morph_init)))\n",
    "           \n",
    "            morph_init = jnp.asarray(morph_init)\n",
    "            n_steps, peak_value = stepnum, 1\n",
    "           \n",
    "            schedule = optax.cosine_onecycle_schedule(n_steps, peak_value, final_div_factor=1)\n",
    "            morph_step = lambda p: scarlet2.relative_step(p, factor=1e-3)\n",
    "            test_step_morph =2e-3*peak_value\n",
    "            n_steps, peak_value2 = stepnum, jnp.max(flux[~np.isinf(flux)])\n",
    "            \n",
    "    \n",
    "            schedule2 = optax.cosine_onecycle_schedule(n_steps, peak_value2, final_div_factor=1)\n",
    "            gal_step = lambda p: scarlet2.relative_step(p, factor=5e-4)\n",
    "            test_step_gal =5e-3*peak_value2\n",
    "\n",
    "            scarlet2.Source(\n",
    "                centerpix,\n",
    "                scarlet2.StaticArraySpectrum(jnp.asarray(flux),filters=bandall),\n",
    "                scarlet2.ArrayMorphology(morph_init))\n",
    "pos_step = lambda p: scarlet2.relative_step(p, factor=1e-3)\n",
    "parameters = scene.make_parameters()\n",
    "for i in range(len(scene.sources)):\n",
    "    if i==indtransient:\n",
    "        parameters += Parameter(scene.sources[i].spectrum.data, name=f\"spectrum.{i}\", constraint=constraints.positive, stepsize=AGN_step)\n",
    "        parameters += Parameter(scene.sources[i].morphology.center, name=f\"spectrum.{i}\", constraint=constraints.positive, stepsize=pos_step)\n",
    " \n",
    "    else:\n",
    "        parameters += Parameter(scene.sources[i].spectrum.data, name=f\"spectrum.{i}\", constraint=constraints.positive, stepsize=gal_step)\n",
    "        parameters += Parameter(scene.sources[i].morphology.data, name=f\"morph.{i}\", constraint=constraints.positive, stepsize=morph_step)\n",
    "        \n",
    "scene.set_spectra_to_match(observations_sc2,parameters)"
   ]
  },
  {
   "cell_type": "code",
   "execution_count": 13,
   "id": "5ac2bd00",
   "metadata": {},
   "outputs": [
    {
     "data": {
      "image/png": "[encoded data removed]",
      "text/plain": [
       "<Figure size 1200x400 with 3 Axes>"
      ]
     },
     "metadata": {},
     "output_type": "display_data"
    }
   ],
   "source": [
    "scarlet2.plot.scene(\n",
    "    scene,\n",
    "    observation=observations_sc2[10],\n",
    "    norm=normsingle[10],\n",
    "    channel_map=None,\n",
    "    show_model=False,\n",
    "    show_observed=True,\n",
    "    show_rendered=True,\n",
    "    show_residual=True,\n",
    "    add_labels=True,\n",
    "    add_boxes=True,\n",
    "    linear=True,\n",
    ")\n",
    "plt.show()"
   ]
  },
  {
   "cell_type": "code",
   "execution_count": 14,
   "id": "265bde87",
   "metadata": {},
   "outputs": [
    {
     "data": {
      "image/png": "[encoded data removed]",
      "text/plain": [
       "<Figure size 1800x720 with 2 Axes>"
      ]
     },
     "metadata": {},
     "output_type": "display_data"
    },
    {
     "data": {
      "text/plain": [
       "<Figure size 600x450 with 0 Axes>"
      ]
     },
     "metadata": {},
     "output_type": "display_data"
    }
   ],
   "source": [
    "import cmasher as cmr\n",
    "cmap = cmr.lilac\n",
    "int_method='none'\n",
    "fig, axes = plt.subplots(1, len( scene.sources ), figsize=(15,6),dpi=120)\n",
    "for i, ax in enumerate(axes):\n",
    "    if i==indtransient:\n",
    "        y = scene.sources[i].morphology()\n",
    "    else:\n",
    "        y = scene.sources[i].morphology.data\n",
    "    ax.imshow(y, cmap = cmap,interpolation=int_method,vmin = 0)#np.max([np.min(np.log(y)[np.log(y)>-15]),-15]))\n",
    "    ax.set_title(f\"source {i}\", fontsize = 18)\n",
    "    ax.invert_yaxis()\n",
    "plt.suptitle('reconstructed sources (transient = '+str(indtransient)+')', fontsize=12)#,y=0.75)\n",
    "plt.show()\n",
    "plt.clf()"
   ]
  },
  {
   "cell_type": "code",
   "execution_count": 15,
   "id": "5add1275",
   "metadata": {
    "scrolled": true
   },
   "outputs": [
    {
     "name": "stdout",
     "output_type": "stream",
     "text": [
      "[0.04362802 0.17943773 0.11348891 0.56736    0.13317062 0.09586278\n",
      " 0.6749642  0.10064656 0.14317301 0.15633723 0.02998608 0.2397528\n",
      " 0.11492445 0.12748902 0.8211189  1.1501058  1.1939329  0.41847825\n",
      " 0.7702832  0.05624187 0.253577   0.2939913  0.05624297 1.6370231\n",
      " 0.21313463 0.10415138 0.10214875 0.07993264 0.3909439  0.17746867\n",
      " 0.1664417  0.40126523 0.18776129 0.16412085 1.6465487  0.10389999\n",
      " 0.21481784 0.60405326 1.4191699  0.73839855 0.32845283 1.1187357\n",
      " 0.13524285 0.1932241  0.9813735 ]\n",
      "[29.46838  29.522345]\n"
     ]
    },
    {
     "name": "stderr",
     "output_type": "stream",
     "text": [
      "100%|██████████| 600/600 [00:27<00:00, 21.90it/s, loss=149095.84, max_change=0.000079]\n"
     ]
    },
    {
     "name": "stdout",
     "output_type": "stream",
     "text": [
      "[0.18109742 0.51585233 0.11348891 2.4723406  0.13317063 0.29144302\n",
      " 3.7145429  0.10064655 0.14317301 0.59460735 0.02998608 1.1642078\n",
      " 0.11492445 0.12748902 4.4932313  5.8362055  6.1958723  0.59654886\n",
      " 3.2540603  0.05624187 0.41894957 0.4761422  0.05624296 8.538134\n",
      " 0.21313465 0.10415137 0.10214876 0.07993264 1.2386855  0.17746866\n",
      " 0.1664417  1.0898535  0.1877613  0.16412085 7.954707   0.10389998\n",
      " 0.21481785 1.9757333  6.921675   2.9541066  0.4113959  5.1373425\n",
      " 0.13524283 0.1932241  4.3512216 ]\n",
      "[29.4992  29.38376]\n"
     ]
    }
   ],
   "source": [
    "n_steps, peak_value_pos = stepnum, 1\n",
    "schedulepos = optax.cosine_onecycle_schedule(n_steps, peak_value_pos, final_div_factor=1)\n",
    "pos_step = lambda p: scarlet2.relative_step(p, factor=1e-3)#lambda p, it: scarlet2.relative_step(p, factor=0.01) * schedule(it)\n",
    "flux = scene.sources[indtransient].spectrum.data\n",
    "print(flux)\n",
    "print(scene.sources[indtransient].morphology.center)\n",
    "\n",
    "#scene.set_info('sources.'+str(indtransient)+'.morphology.center', fixed=False,stepsize = pos_step)#, prior=dist.Normal(scene.sources[indtransient].morphology.center, 0.5))\n",
    "scene_ = scene.fit(observations_sc2, parameters,max_iter=n_steps, e_rel=1e-8,schedule=schedulepos)\n",
    "flux = scene_.sources[indtransient].spectrum.data\n",
    "print(flux)\n",
    "print(scene_.sources[indtransient].morphology.center)\n"
   ]
  },
  {
   "cell_type": "code",
   "execution_count": 16,
   "id": "74e5187a",
   "metadata": {},
   "outputs": [
    {
     "data": {
      "image/png": "[encoded data removed]",
      "text/plain": [
       "<Figure size 1200x400 with 3 Axes>"
      ]
     },
     "metadata": {},
     "output_type": "display_data"
    }
   ],
   "source": [
    "scarlet2.plot.scene(\n",
    "    scene_,\n",
    "    observation=observations_sc2[0],\n",
    "    norm=normsingle[0],\n",
    "    channel_map=None,\n",
    "    show_model=False,\n",
    "    show_observed=True,\n",
    "    show_rendered=True,\n",
    "    show_residual=True,\n",
    "    add_labels=True,\n",
    "    add_boxes=True,\n",
    "    #figsize=None,\n",
    "    linear=True,\n",
    ")\n",
    "plt.show()"
   ]
  },
  {
   "cell_type": "code",
   "execution_count": 23,
   "id": "2925b2de",
   "metadata": {},
   "outputs": [
    {
     "name": "stdout",
     "output_type": "stream",
     "text": [
      "[29.4992  29.38376]\n"
     ]
    },
    {
     "name": "stderr",
     "output_type": "stream",
     "text": [
      "warmup:   1%|▏         | 7/500 [00:39<45:47,  5.57s/it, 511 steps of size 8.71e-03. acc. prob=0.48]\n"
     ]
    },
    {
     "ename": "KeyboardInterrupt",
     "evalue": "",
     "output_type": "error",
     "traceback": [
      "\u001b[0;31m---------------------------------------------------------------------------\u001b[0m",
      "\u001b[0;31mKeyboardInterrupt\u001b[0m                         Traceback (most recent call last)",
      "Cell \u001b[0;32mIn[23], line 42\u001b[0m\n\u001b[1;32m     36\u001b[0m \u001b[38;5;28mprint\u001b[39m(scene_\u001b[38;5;241m.\u001b[39msources[indtransient]\u001b[38;5;241m.\u001b[39mmorphology\u001b[38;5;241m.\u001b[39mcenter)\n\u001b[1;32m     37\u001b[0m \u001b[38;5;66;03m#print(dist.Normal(scene_.sources[indtransient].morphology.center, 0.01).sample(jax.random.PRNGKey(0),(10,)))\u001b[39;00m\n\u001b[1;32m     38\u001b[0m \u001b[38;5;66;03m#scene_.set_info('sources.'+str(indtransient)+'.morphology.center', fixed=False, prior=dist.Normal(scene_.sources[indtransient].morphology.center, 5.0),stepsize=pos_step)\u001b[39;00m\n\u001b[1;32m     39\u001b[0m \u001b[38;5;66;03m#scene_.set_info('sources.'+str(indtransient)+'.spectrum.data', fixed=False, prior=dist.Normal(scene_.sources[indtransient].spectrum.data, np.clip(0.02*scene_.sources[indtransient].spectrum.data,a_min=1,a_max=200)))#prior=dist.Uniform(scene_.sources[0].spectrum.data-2.5,scene_.sources[0].spectrum.data+2.5))##01scene.sources[5].spectrum.data))#dist.Uniform(scene_.sources[5].spectrum.data-2,scene_.sources[5].spectrum.data+2)) \u001b[39;00m\n\u001b[1;32m     40\u001b[0m \n\u001b[1;32m     41\u001b[0m \u001b[38;5;66;03m#%debug\u001b[39;00m\n\u001b[0;32m---> 42\u001b[0m mcmc \u001b[38;5;241m=\u001b[39m \u001b[43mscene_\u001b[49m\u001b[38;5;241;43m.\u001b[39;49m\u001b[43msample\u001b[49m\u001b[43m(\u001b[49m\u001b[43mobservations_sc2\u001b[49m\u001b[43m,\u001b[49m\u001b[43mparameters\u001b[49m\u001b[43m,\u001b[49m\u001b[43mnum_warmup\u001b[49m\u001b[38;5;241;43m=\u001b[39;49m\u001b[38;5;241;43m200\u001b[39;49m\u001b[43m,\u001b[49m\u001b[43m \u001b[49m\u001b[43mnum_samples\u001b[49m\u001b[38;5;241;43m=\u001b[39;49m\u001b[38;5;241;43m300\u001b[39;49m\u001b[43m,\u001b[49m\u001b[43m \u001b[49m\u001b[43mdense_mass\u001b[49m\u001b[38;5;241;43m=\u001b[39;49m\u001b[38;5;28;43;01mTrue\u001b[39;49;00m\u001b[43m,\u001b[49m\u001b[43m \u001b[49m\u001b[43minit_strategy\u001b[49m\u001b[38;5;241;43m=\u001b[39;49m\u001b[43minit_to_sample\u001b[49m\u001b[43m)\u001b[49m \n\u001b[1;32m     43\u001b[0m \u001b[38;5;66;03m#print(mcmc.get_samples())\u001b[39;00m\n\u001b[1;32m     44\u001b[0m \u001b[38;5;66;03m#q = mcmc.get_samples()['morphology.center:'+str(indtransient)] \u001b[39;00m\n\u001b[1;32m     45\u001b[0m \u001b[38;5;66;03m#q = mcmc.get_samples()['spectrum:'+str(indtransient)] \u001b[39;00m\n\u001b[1;32m     46\u001b[0m q \u001b[38;5;241m=\u001b[39m mcmc\u001b[38;5;241m.\u001b[39mget_samples()[\u001b[38;5;124m'\u001b[39m\u001b[38;5;124mmorphology.data:\u001b[39m\u001b[38;5;124m'\u001b[39m\u001b[38;5;241m+\u001b[39m\u001b[38;5;28mstr\u001b[39m(indtransient\u001b[38;5;241m+\u001b[39m\u001b[38;5;241m1\u001b[39m)] \n",
      "File \u001b[0;32m~/scarletmultisource/scarlet2/scarlet2/scene.py:109\u001b[0m, in \u001b[0;36mScene.sample\u001b[0;34m(self, observations, parameters, seed, num_warmup, num_samples, progress_bar, **kwargs)\u001b[0m\n\u001b[1;32m    107\u001b[0m mcmc \u001b[38;5;241m=\u001b[39m MCMC(nuts_kernel, num_warmup\u001b[38;5;241m=\u001b[39mnum_warmup, num_samples\u001b[38;5;241m=\u001b[39mnum_samples, progress_bar\u001b[38;5;241m=\u001b[39mprogress_bar)\n\u001b[1;32m    108\u001b[0m rng_key \u001b[38;5;241m=\u001b[39m jax\u001b[38;5;241m.\u001b[39mrandom\u001b[38;5;241m.\u001b[39mPRNGKey(seed)\n\u001b[0;32m--> 109\u001b[0m \u001b[43mmcmc\u001b[49m\u001b[38;5;241;43m.\u001b[39;49m\u001b[43mrun\u001b[49m\u001b[43m(\u001b[49m\u001b[43mrng_key\u001b[49m\u001b[43m,\u001b[49m\u001b[43m \u001b[49m\u001b[38;5;28;43mself\u001b[39;49m\u001b[43m)\u001b[49m\n\u001b[1;32m    110\u001b[0m \u001b[38;5;28;01mreturn\u001b[39;00m mcmc\n",
      "File \u001b[0;32m~/.conda/envs/scarlet/lib/python3.10/site-packages/numpyro/infer/mcmc.py:628\u001b[0m, in \u001b[0;36mMCMC.run\u001b[0;34m(self, rng_key, extra_fields, init_params, *args, **kwargs)\u001b[0m\n\u001b[1;32m    626\u001b[0m map_args \u001b[38;5;241m=\u001b[39m (rng_key, init_state, init_params)\n\u001b[1;32m    627\u001b[0m \u001b[38;5;28;01mif\u001b[39;00m \u001b[38;5;28mself\u001b[39m\u001b[38;5;241m.\u001b[39mnum_chains \u001b[38;5;241m==\u001b[39m \u001b[38;5;241m1\u001b[39m:\n\u001b[0;32m--> 628\u001b[0m     states_flat, last_state \u001b[38;5;241m=\u001b[39m \u001b[43mpartial_map_fn\u001b[49m\u001b[43m(\u001b[49m\u001b[43mmap_args\u001b[49m\u001b[43m)\u001b[49m\n\u001b[1;32m    629\u001b[0m     states \u001b[38;5;241m=\u001b[39m tree_map(\u001b[38;5;28;01mlambda\u001b[39;00m x: x[jnp\u001b[38;5;241m.\u001b[39mnewaxis, \u001b[38;5;241m.\u001b[39m\u001b[38;5;241m.\u001b[39m\u001b[38;5;241m.\u001b[39m], states_flat)\n\u001b[1;32m    630\u001b[0m \u001b[38;5;28;01melse\u001b[39;00m:\n",
      "File \u001b[0;32m~/.conda/envs/scarlet/lib/python3.10/site-packages/numpyro/infer/mcmc.py:434\u001b[0m, in \u001b[0;36mMCMC._single_chain_mcmc\u001b[0;34m(self, init, args, kwargs, collect_fields)\u001b[0m\n\u001b[1;32m    428\u001b[0m collection_size \u001b[38;5;241m=\u001b[39m \u001b[38;5;28mself\u001b[39m\u001b[38;5;241m.\u001b[39m_collection_params[\u001b[38;5;124m\"\u001b[39m\u001b[38;5;124mcollection_size\u001b[39m\u001b[38;5;124m\"\u001b[39m]\n\u001b[1;32m    429\u001b[0m collection_size \u001b[38;5;241m=\u001b[39m (\n\u001b[1;32m    430\u001b[0m     collection_size\n\u001b[1;32m    431\u001b[0m     \u001b[38;5;28;01mif\u001b[39;00m collection_size \u001b[38;5;129;01mis\u001b[39;00m \u001b[38;5;28;01mNone\u001b[39;00m\n\u001b[1;32m    432\u001b[0m     \u001b[38;5;28;01melse\u001b[39;00m collection_size \u001b[38;5;241m/\u001b[39m\u001b[38;5;241m/\u001b[39m \u001b[38;5;28mself\u001b[39m\u001b[38;5;241m.\u001b[39mthinning\n\u001b[1;32m    433\u001b[0m )\n\u001b[0;32m--> 434\u001b[0m collect_vals \u001b[38;5;241m=\u001b[39m \u001b[43mfori_collect\u001b[49m\u001b[43m(\u001b[49m\n\u001b[1;32m    435\u001b[0m \u001b[43m    \u001b[49m\u001b[43mlower_idx\u001b[49m\u001b[43m,\u001b[49m\n\u001b[1;32m    436\u001b[0m \u001b[43m    \u001b[49m\u001b[43mupper_idx\u001b[49m\u001b[43m,\u001b[49m\n\u001b[1;32m    437\u001b[0m \u001b[43m    \u001b[49m\u001b[43msample_fn\u001b[49m\u001b[43m,\u001b[49m\n\u001b[1;32m    438\u001b[0m \u001b[43m    \u001b[49m\u001b[43minit_val\u001b[49m\u001b[43m,\u001b[49m\n\u001b[1;32m    439\u001b[0m \u001b[43m    \u001b[49m\u001b[43mtransform\u001b[49m\u001b[38;5;241;43m=\u001b[39;49m\u001b[43m_collect_fn\u001b[49m\u001b[43m(\u001b[49m\u001b[43mcollect_fields\u001b[49m\u001b[43m)\u001b[49m\u001b[43m,\u001b[49m\n\u001b[1;32m    440\u001b[0m \u001b[43m    \u001b[49m\u001b[43mprogbar\u001b[49m\u001b[38;5;241;43m=\u001b[39;49m\u001b[38;5;28;43mself\u001b[39;49m\u001b[38;5;241;43m.\u001b[39;49m\u001b[43mprogress_bar\u001b[49m\u001b[43m,\u001b[49m\n\u001b[1;32m    441\u001b[0m \u001b[43m    \u001b[49m\u001b[43mreturn_last_val\u001b[49m\u001b[38;5;241;43m=\u001b[39;49m\u001b[38;5;28;43;01mTrue\u001b[39;49;00m\u001b[43m,\u001b[49m\n\u001b[1;32m    442\u001b[0m \u001b[43m    \u001b[49m\u001b[43mthinning\u001b[49m\u001b[38;5;241;43m=\u001b[39;49m\u001b[38;5;28;43mself\u001b[39;49m\u001b[38;5;241;43m.\u001b[39;49m\u001b[43mthinning\u001b[49m\u001b[43m,\u001b[49m\n\u001b[1;32m    443\u001b[0m \u001b[43m    \u001b[49m\u001b[43mcollection_size\u001b[49m\u001b[38;5;241;43m=\u001b[39;49m\u001b[43mcollection_size\u001b[49m\u001b[43m,\u001b[49m\n\u001b[1;32m    444\u001b[0m \u001b[43m    \u001b[49m\u001b[43mprogbar_desc\u001b[49m\u001b[38;5;241;43m=\u001b[39;49m\u001b[43mpartial\u001b[49m\u001b[43m(\u001b[49m\u001b[43m_get_progbar_desc_str\u001b[49m\u001b[43m,\u001b[49m\u001b[43m \u001b[49m\u001b[43mlower_idx\u001b[49m\u001b[43m,\u001b[49m\u001b[43m \u001b[49m\u001b[43mphase\u001b[49m\u001b[43m)\u001b[49m\u001b[43m,\u001b[49m\n\u001b[1;32m    445\u001b[0m \u001b[43m    \u001b[49m\u001b[43mdiagnostics_fn\u001b[49m\u001b[38;5;241;43m=\u001b[39;49m\u001b[43mdiagnostics\u001b[49m\u001b[43m,\u001b[49m\n\u001b[1;32m    446\u001b[0m \u001b[43m    \u001b[49m\u001b[43mnum_chains\u001b[49m\u001b[38;5;241;43m=\u001b[39;49m\u001b[38;5;28;43mself\u001b[39;49m\u001b[38;5;241;43m.\u001b[39;49m\u001b[43mnum_chains\u001b[49m\u001b[43m \u001b[49m\u001b[38;5;28;43;01mif\u001b[39;49;00m\u001b[43m \u001b[49m\u001b[38;5;28;43mself\u001b[39;49m\u001b[38;5;241;43m.\u001b[39;49m\u001b[43mchain_method\u001b[49m\u001b[43m \u001b[49m\u001b[38;5;241;43m==\u001b[39;49m\u001b[43m \u001b[49m\u001b[38;5;124;43m\"\u001b[39;49m\u001b[38;5;124;43mparallel\u001b[39;49m\u001b[38;5;124;43m\"\u001b[39;49m\u001b[43m \u001b[49m\u001b[38;5;28;43;01melse\u001b[39;49;00m\u001b[43m \u001b[49m\u001b[38;5;241;43m1\u001b[39;49m\u001b[43m,\u001b[49m\n\u001b[1;32m    447\u001b[0m \u001b[43m\u001b[49m\u001b[43m)\u001b[49m\n\u001b[1;32m    448\u001b[0m states, last_val \u001b[38;5;241m=\u001b[39m collect_vals\n\u001b[1;32m    449\u001b[0m \u001b[38;5;66;03m# Get first argument of type `HMCState`\u001b[39;00m\n",
      "File \u001b[0;32m~/.conda/envs/scarlet/lib/python3.10/site-packages/numpyro/util.py:358\u001b[0m, in \u001b[0;36mfori_collect\u001b[0;34m(lower, upper, body_fun, init_val, transform, progbar, return_last_val, collection_size, thinning, **progbar_opts)\u001b[0m\n\u001b[1;32m    356\u001b[0m \u001b[38;5;28;01mwith\u001b[39;00m tqdm\u001b[38;5;241m.\u001b[39mtrange(upper) \u001b[38;5;28;01mas\u001b[39;00m t:\n\u001b[1;32m    357\u001b[0m     \u001b[38;5;28;01mfor\u001b[39;00m i \u001b[38;5;129;01min\u001b[39;00m t:\n\u001b[0;32m--> 358\u001b[0m         vals \u001b[38;5;241m=\u001b[39m \u001b[43mjit\u001b[49m\u001b[43m(\u001b[49m\u001b[43m_body_fn\u001b[49m\u001b[43m)\u001b[49m\u001b[43m(\u001b[49m\u001b[43mi\u001b[49m\u001b[43m,\u001b[49m\u001b[43m \u001b[49m\u001b[43mvals\u001b[49m\u001b[43m)\u001b[49m\n\u001b[1;32m    359\u001b[0m         t\u001b[38;5;241m.\u001b[39mset_description(progbar_desc(i), refresh\u001b[38;5;241m=\u001b[39m\u001b[38;5;28;01mFalse\u001b[39;00m)\n\u001b[1;32m    360\u001b[0m         \u001b[38;5;28;01mif\u001b[39;00m diagnostics_fn:\n",
      "File \u001b[0;32m<string>:1\u001b[0m, in \u001b[0;36m<lambda>\u001b[0;34m(_cls, step_size, inverse_mass_matrix, mass_matrix_sqrt, mass_matrix_sqrt_inv, ss_state, mm_state, window_idx, rng_key)\u001b[0m\n",
      "\u001b[0;31mKeyboardInterrupt\u001b[0m: "
     ]
    }
   ],
   "source": [
    "from numpyro.infer.initialization import init_to_sample\n",
    "\n",
    "parameters = scene_.make_parameters()\n",
    "p = scene_.sources[indtransient].morphology.center\n",
    "prior = dist.Normal(p, scale=1)\n",
    "parameters += Parameter(p, name=f\"morphology.data:\"+str(indtransient+1), prior=prior)\n",
    "#parameters += Parameter(p, name=f\"morphology.center:\"+str(indtransient), prior=prior)\n",
    "#parameters += Parameter(p, name=f\"spectrum:\"+str(indtransient), prior=prior)\n",
    "#print(parameters)\n",
    "'''\n",
    "parameters = scene_.make_parameters()\n",
    "for i in range(len(scene.sources)):\n",
    "    if i==indtransient:\n",
    "        parameters += Parameter(scene_.sources[i].spectrum.data, name=f\"spectrum.{i}\", constraint=constraints.positive, stepsize=AGN_step,\n",
    "                               prior=dist.Normal(scene_.sources[indtransient].spectrum.data, np.clip(0.02*scene_.sources[indtransient].spectrum.data,a_min=1,a_max=200)))#prior=dist.Uniform(scene_.sources[0].spectrum.data-2.5,scene_.sources[0].spectrum.data+2.5))##01scene.sources[5].spectrum.data))#dist.Uniform(scene_.sources[5].spectrum.data-2,scene_.sources[5].spectrum.data+2)) \n",
    "\n",
    "        parameters += Parameter(scene_.sources[i].morphology.center, name=f\"spectrum.{i}\", constraint=constraints.positive, stepsize=pos_step,\n",
    "                                prior=dist.Normal(scene_.sources[indtransient].morphology.center, 2.0))\n",
    "\n",
    " \n",
    "    else:\n",
    "        parameters += Parameter(scene_.sources[i].spectrum.data, name=f\"spectrum.{i}\", constraint=constraints.positive, stepsize=AGN_step,\n",
    "                               prior=dist.Normal(scene_.sources[indtransient].spectrum.data, np.clip(0.02*scene_.sources[indtransient].spectrum.data,a_min=1,a_max=200)))#prior=dist.Uniform(scene_.sources[0].spectrum.data-2.5,scene_.sources[0].spectrum.data+2.5))##01scene.sources[5].spectrum.data))#dist.Uniform(scene_.sources[5].spectrum.data-2,scene_.sources[5].spectrum.data+2)) \n",
    "        #parameters += Parameter(scene_.sources[i].morphology.data, name=f\"morph.{i}\", constraint=constraints.positive, stepsize=morph_step)\n",
    "  \n",
    "for p in parameters:\n",
    "    print(p.name)\n",
    "    parameters-=p.name\n",
    "#print(parameters)\n",
    "for i in range(len(scene_.sources)):\n",
    "    if i==indtransient:\n",
    "        parameters += Parameter(scene.sources[i].morphology.center, name=f\"spectrum.{i}\", constraint=constraints.positive, stepsize=pos_step,prior=dist.Normal(scene.sources[indtransient].morphology.center, 2.0))\n",
    "#print(parameters)\n",
    "#scene_.set_info(scene_.parameters.keys(), fixed=True) \n",
    "'''\n",
    "print(scene_.sources[indtransient].morphology.center)\n",
    "#print(dist.Normal(scene_.sources[indtransient].morphology.center, 0.01).sample(jax.random.PRNGKey(0),(10,)))\n",
    "#scene_.set_info('sources.'+str(indtransient)+'.morphology.center', fixed=False, prior=dist.Normal(scene_.sources[indtransient].morphology.center, 5.0),stepsize=pos_step)\n",
    "#scene_.set_info('sources.'+str(indtransient)+'.spectrum.data', fixed=False, prior=dist.Normal(scene_.sources[indtransient].spectrum.data, np.clip(0.02*scene_.sources[indtransient].spectrum.data,a_min=1,a_max=200)))#prior=dist.Uniform(scene_.sources[0].spectrum.data-2.5,scene_.sources[0].spectrum.data+2.5))##01scene.sources[5].spectrum.data))#dist.Uniform(scene_.sources[5].spectrum.data-2,scene_.sources[5].spectrum.data+2)) \n",
    "\n",
    "#%debug\n",
    "mcmc = scene_.sample(observations_sc2,parameters,num_warmup=200, num_samples=300, dense_mass=True, init_strategy=init_to_sample) \n",
    "#print(mcmc.get_samples())\n",
    "q = mcmc.get_samples()['morphology.center:'+str(indtransient)] \n",
    "#q = mcmc.get_samples()['spectrum:'+str(indtransient)] \n",
    "#q = mcmc.get_samples()['morphology.data:'+str(indtransient+1)] \n",
    "\n",
    "q1 = np.percentile(q,[2.5,16,50,84,97.5],axis=0) \n",
    "print('q1',q1)\n",
    "centerAGN = np.asfarray([q1[2,0],q1[2,1]])\n",
    "errorAGN = np.asarray([np.abs(q1[4,0]-q1[0,0]),np.abs(q1[4,1]-q1[0,1])])\n",
    "print(centerAGN,errorAGN)\n",
    "corner.corner(mcmc).show() \n",
    "plt.savefig(plotdir+'/'+srcname+'_transientcenter_corner.png')\n",
    "plt.show()\n",
    "plt.clf()\n"
   ]
  },
  {
   "cell_type": "code",
   "execution_count": null,
   "id": "b5c3a650",
   "metadata": {},
   "outputs": [],
   "source": [
    "complc = np.loadtxt('/scratch/gpfs/cw1074/HSCdata/multiressingleshift_priorimage/SNoff1.5_5_2.0_lc.txt',dtype=str)\n",
    "lcbands= [x[-1] for x in complc[:,1]]\n",
    "fac = np.sum(scene_.sources[indtransient].morphology(),axis=(-2,-1))\n",
    "print(fac)\n",
    "times=np.asarray(times)\n",
    "summed_diff = 0\n",
    "for bind,(b,c) in enumerate(zip(bandall,['green','orange','red','purple','blue'])):\n",
    "    plt.scatter(times[epochs==b]-57700+1550,flux[epochs==b]*fac,linestyle='',label=b,color=c,marker='.')\n",
    "    indb = np.argwhere(np.asarray(lcbands)==b)[:,0]\n",
    "    summed_diff+=np.sum(np.abs(flux[epochs==b]-np.asfarray(complc[:,2])[indb]))\n",
    "    plt.scatter(np.asfarray(complc[:,0])[indb]-57700+1550,np.asfarray(complc[:,2])[indb],label=b+'-sim',color=c,marker='x')\n",
    "print('summed diff',summed_diff)\n",
    "plt.xlabel('MJD-56150')\n",
    "plt.xlim((0,100))\n",
    "plt.ylabel('Flux')\n",
    "plt.legend()\n",
    "plt.savefig(plotdir+'/'+srcname+'_lc_flux_nonparametric.png')\n",
    "print('Saved',plotdir+'/'+srcname+'_lc_flux_nonparametric.png')\n",
    "plt.show()\n",
    "\n",
    "getphotometry=False\n",
    "if getphotometry==True:\n",
    "    scene_.set_info(scene_.parameters.keys(), fixed=True)\n",
    "    #priorspec = np.maximum([0.1*scene_.sources[indtransient].spectrum.data],[bg])\n",
    "    #print([0.1*scene_.sources[indtransient].spectrum.data],[bg],priorspec)\n",
    "    print(scene_.sources[indtransient].spectrum.data, 0.1*scene_.sources[indtransient].spectrum.data)#prior=dist.Uniform(scene_.sources[0].spectrum.data-2.5,scene_.sources[0].spectrum.data+2.5)\n",
    "    scene_.set_info('sources.'+str(indtransient)+'.spectrum.data', fixed=False, prior=dist.Normal(scene_.sources[indtransient].spectrum.data, np.clip(0.02*scene_.sources[indtransient].spectrum.data,a_min=1,a_max=200)))#prior=dist.Uniform(scene_.sources[0].spectrum.data-2.5,scene_.sources[0].spectrum.data+2.5))##01scene.sources[5].spectrum.data))#dist.Uniform(scene_.sources[5].spectrum.data-2,scene_.sources[5].spectrum.data+2)) \n",
    "    scene_.set_info('sources.'+str(indtransient)+'.morphology.center', fixed=False, prior=dist.Normal(scene_.sources[indtransient].morphology.center, 4.0))\n",
    "\n",
    "    mcmc = scene_.sample(observations_sc2,num_warmup=100, num_samples=300) \n",
    "    q = mcmc.get_samples()['sources.'+str(indtransient)+'.spectrum.data'] \n",
    "    q1 = np.percentile(q,[2.5,16,50,84,97.5],axis=0) \n",
    "    fac = np.sum(scene_.sources[indtransient].morphology(),axis=(-2,-1)) \n",
    "    fluxes = [] \n",
    "    fluxerrors = [] \n",
    "    for i,b in zip(range(q1.shape[1]),bandind): \n",
    "        print(i,'median = ',q1[2][i],'std = ',(q1[4][i]-q1[0][i])/2) \n",
    "        fluxes.append(q1[2][i]*fac) \n",
    "        fluxerrors.append(np.abs(q1[4][i]-q1[0][i])/2*fac)\n",
    "\n",
    "    mcmc.print_summary() \n",
    "    '''\n",
    "    q = mcmc.get_samples()['sources.'+str(indtransient)+'.morphology.center'] \n",
    "    q1 = np.percentile(q,[2.5,16,50,84,97.5],axis=0) \n",
    "    print(q1)\n",
    "    centerAGN = np.asfarray([q1[2,0],q1[2,1]])\n",
    "    errorAGN = np.asarray([np.abs(q1[4,0]-q1[0,0]),np.abs(q1[4,1]-q1[0,1])])\n",
    "    '''\n",
    "\n",
    "    zps = np.asfarray(zps)\n",
    "    fluxes = np.asfarray(fluxes)\n",
    "    fluxerrors = np.asfarray(fluxerrors)\n",
    "    times=np.asfarray(times)\n",
    "\n",
    "\n",
    "    fac = np.sum(scene_.sources[indtransient].morphology(),axis=(-2,-1))\n",
    "    \n",
    "    for bind,(b,c) in enumerate(zip(bandall,['green','orange','red','purple','blue'])):\n",
    "        indb = np.argwhere(np.asarray(lcbands)==b)[:,0]\n",
    "        plt.errorbar(times[epochs==b]-57700+1550,fluxes[epochs==b],yerr = fluxerrors[epochs==b],linestyle='',label=b+'-scarlet',color=c,marker='.',ecolor='gray')#+fluxgal[epochs==b]),label=b,color=c,marker='.')\n",
    "        plt.scatter(np.asfarray(complc[:,0])[indb]-57700+1550,np.asfarray(complc[:,2])[indb],label=b+'-sim',color=c,marker='x')\n",
    "    \n",
    "    plt.xlabel('MJD-56150')\n",
    "    plt.xlim((0,100))\n",
    "    #plt.xlim((0,300))\n",
    "    #plt.ylim((22.0,22.3))\n",
    "    plt.ylabel('Flux')\n",
    "    plt.legend()\n",
    "    #plt.title(srcname)\n",
    "    plt.savefig(plotdir+'/'+srcname+'_lc_flux_nonparametric.pdf')\n",
    "    plt.show()\n",
    "    plt.clf()\n",
    "    outlchead=['MJD','FLUX','FLUXERR','BAND']\n",
    "    outlc=np.column_stack((times,fluxes,fluxerrors,epochs))\n",
    "    outlc = np.vstack((outlchead,outlc))\n",
    "    np.savetxt(plotdir+'/lc.txt',np.asarray(outlc,dtype=str),fmt='%s')\n",
    "    sed=[]\n",
    "    sederr=[]\n",
    "    print(bandall)\n",
    "    for b,c in zip(bandall,['green','orange','red','purple','blue']):\n",
    "        indb = np.argwhere(np.asarray(lcbands)==b)[:,0]\n",
    "        sed.append(np.mean(fluxes[epochs==b]))\n",
    "        sederr.append(np.std(fluxes[epochs==b]))\n",
    "        plt.errorbar(times[epochs==b]-57700+1550,25-2.5*np.log10(fluxes[epochs==b]),yerr = 1.0857*np.abs(fluxerrors[epochs==b]/fluxes[epochs==b]),ecolor='gray',linestyle='',label=b+'-scarlet',color=c,marker='.')#+fluxgal[epochs==b]),label=b,color=c,marker='.')\n",
    "        plt.scatter(np.asfarray(complc[:,0])[indb]-57700+1550,25-2.5*np.log10(np.asfarray(complc[:,2])[indb]),label=b+'-sim',color=c,marker='x')\n",
    " \n",
    "    plt.xlabel('MJD-56150')\n",
    "    plt.xlim((0,100))\n",
    "    #plt.xlim((0,300))\n",
    "    print(25-2.5*np.log10(np.sqrt(3*bg)))\n",
    "    plt.ylim((19.8,24))\n",
    "    plt.ylabel('Magnitude')\n",
    "    plt.gca().invert_yaxis()\n",
    "    plt.legend()\n",
    "    plt.savefig(plotdir+'/'+srcname+'_lc_mag_nonparametric.pdf')\n",
    "    print('Saved',plotdir+'/'+srcname+'_lc_mag_nonparametric.pdf')\n",
    "    plt.show()\n"
   ]
  },
  {
   "cell_type": "code",
   "execution_count": null,
   "id": "96f6330e",
   "metadata": {
    "scrolled": true
   },
   "outputs": [],
   "source": [
    "channels = np.asarray(channels)\n",
    "observations_sc2_arr = np.asarray(observations_sc2)\n",
    "normsinglearr = np.asarray(normsingle)\n",
    "for i,(chan,obs,obs1,norm) in enumerate(zip(channels[inds0],observations_sc2_arr[inds0],obssinglearr[inds0],normsinglearr[inds0])):\n",
    "        model_ = obs.render(scene_())\n",
    "        scarlet.display.show_scarlet2_scene(sources,\n",
    "                           norm=normsinglearr[1],#norm,\n",
    "                           observation=obs,\n",
    "                           model = model_,\n",
    "                           frame = scarlet.Frame.from_observations(obs1, coverage='intersection', model_psf=model_psf)[0],\n",
    "                           show_rendered=True,\n",
    "                           show_observed=True,\n",
    "                           show_residual=True,\n",
    "                           figsize=(12,4)\n",
    "                          )\n",
    "        plt.savefig(plotdir+'/scarlet2fit'+chan+'.png')\n",
    "        plt.show()\n",
    "        plt.clf()"
   ]
  },
  {
   "cell_type": "code",
   "execution_count": null,
   "id": "44f2f128",
   "metadata": {},
   "outputs": [],
   "source": [
    "makelc = True\n",
    "if makelc:\n",
    "    scene_.set_info(scene_.parameters.keys(), fixed=True)\n",
    "    scene_.set_info('sources.'+str(indtransient)+'.spectrum.data', fixed=False, prior=dist.Normal(scene_.sources[indtransient].spectrum.data, 0.01*np.clip(scene_.sources[indtransient].spectrum.data,a_min=1e-5,a_max=1e6)))#prior=dist.Uniform(scene_.sources[0].spectrum.data-2.5,scene_.sources[0].spectrum.data+2.5))##01*scene.sources[5].spectrum.data))#dist.Uniform(scene_.sources[5].spectrum.data-2,scene_.sources[5].spectrum.data+2))\n",
    "    fluxes = []\n",
    "    fluxerrors = []\n",
    "    for indflux,obs2 in enumerate(observations_sc2):\n",
    "        mcmc = scene_.sample(obs2,num_warmup=50, num_samples=100)\n",
    "        q = mcmc.get_samples()['sources.'+str(indtransient)+'.spectrum.data']\n",
    "        print(q.shape)\n",
    "        q = q[indflux]\n",
    "        q1 = np.percentile(q,[2.5,16,50,84,97.5],axis=0)\n",
    "        fac = np.sum(scene_.sources[indtransient].morphology(),axis=(-2,-1))\n",
    "\n",
    "        print(i,'median = ',q1[2],'std = ',(q1[3]-q1[1])/2)\n",
    "        fluxes.append(q1[2]*fac)\n",
    "        fluxerrors.append((q1[3]-q1[1])/2*fac)\n",
    "        print(fluxes,fluxerrors)\n",
    "    mcmc.print_summary()\n",
    "    for bind,(b,c) in enumerate(zip(bandall,['green','orange','red','purple','blue'])):\n",
    "        plt.scatter(times[epochs==b]-57700,flux[epochs==b],linestyle='',label=b,color=c,marker='.')\n",
    "        indb = np.argwhere(np.asarray(lcbands)==b)[:,0]\n",
    "        summed_diff+=np.sum(np.abs(flux[epochs==b]-np.asfarray(complc[:,2])[indb]))\n",
    "        plt.scatter(np.asfarray(complc[:,0])[indb]-57700,np.asfarray(complc[:,2])[indb],label=b+'-sim',color=c,marker='x')\n",
    "    print('summed diff',summed_diff)\n",
    "    plt.xlabel('MJD-57700')\n",
    "    #plt.xlim((0,300))\n",
    "    #plt.ylim((22.0,22.3))\n",
    "    plt.ylabel('Flux')\n",
    "    plt.legend()\n",
    "    plt.title(srcname)\n",
    "    plt.savefig(plotdir+'/'+srcname+'_lc_flux_witherrrors_sersic.png')\n",
    "    plt.show()\n"
   ]
  },
  {
   "cell_type": "code",
   "execution_count": null,
   "id": "d5b4d2db",
   "metadata": {
    "scrolled": false
   },
   "outputs": [],
   "source": [
    "cmap = cmr.lilac\n",
    "int_method='none'\n",
    "fig, axes = plt.subplots(1, len( scene_.sources ), figsize=(15,6),dpi=120)\n",
    "for i, ax in enumerate(axes):\n",
    "    if i==indtransient:\n",
    "        y = scene_.sources[i].morphology()\n",
    "    else:\n",
    "        y = scene_.sources[i].morphology.data\n",
    "    ax.imshow(np.log(y), cmap = cmap,interpolation=int_method,vmin = np.max([np.min(np.log(y)[np.log(y)>-50]),-50]))\n",
    "    ax.set_title(f\"source {i}\", fontsize = 18)\n",
    "    ax.invert_yaxis()\n",
    "plt.suptitle('reconstructed sources (transient = '+str(indtransient)+')', fontsize=12)#,y=0.75)\n",
    "plt.savefig(plotdir+'/'+srcname+'_reconstructed_sources.png')\n",
    "plt.show()\n",
    "plt.clf()"
   ]
  },
  {
   "cell_type": "code",
   "execution_count": null,
   "id": "dc4dbe9f",
   "metadata": {},
   "outputs": [],
   "source": [
    "\n",
    "fig, axes = plt.subplots(1, len( scene_.sources ), figsize=(15,6),dpi=120)\n",
    "for i, ax in enumerate(axes):\n",
    "    y = scene_.sources[i].morphology() \n",
    "    ax.imshow(y, cmap = cmap, vmin=np.min(y), vmax=np.max(y)*0.5, interpolation=int_method) \n",
    "    ax.set_title(f\"source {i}\", fontsize = 18)\n",
    "    ax.invert_yaxis()\n",
    "#plt.suptitle('reconstructed sources', fontsize=24,y=0.75)\n",
    "plt.show()\n",
    "plt.clf()"
   ]
  },
  {
   "cell_type": "code",
   "execution_count": null,
   "id": "c287d856",
   "metadata": {
    "scrolled": true
   },
   "outputs": [],
   "source": [
    "for i,(chan,obs,norm) in enumerate(zip(channels[inds0],observations_sc2_arr[inds0],normsinglearr[inds0])):\n",
    "        model_ = obs.render(scene_())\n",
    "        scarlet.display.show_scarlet2_scene(sources,\n",
    "                           norm=norm,\n",
    "                           observation=obs,\n",
    "                           model = model_,\n",
    "                           frame = model_frame_s,\n",
    "                           show_rendered=True,\n",
    "                           show_observed=True,\n",
    "                           show_residual=True,\n",
    "                           add_labels=False,\n",
    "                           figsize=(8,3)\n",
    "                          )\n",
    "        plt.savefig(plotdir+'/scarlet2fit'+chan+'.pdf')\n",
    "        plt.show()\n",
    "        plt.clf()\n",
    "for i,(chan,obs,norm) in enumerate(zip(channels[inds0+12],observations_sc2_arr[inds0+12],normsinglearr[inds0+12])):\n",
    "        model_ = obs.render(scene_())\n",
    "        scarlet.display.show_scarlet2_scene(sources,\n",
    "                           norm=norm,\n",
    "                           observation=obs,\n",
    "                           model = model_,\n",
    "                           frame = model_frame_s,\n",
    "                           show_rendered=True,\n",
    "                           show_observed=True,\n",
    "                           show_residual=True,\n",
    "                           add_labels=False,\n",
    "                           figsize=(8,3)\n",
    "                          )\n",
    "        plt.savefig(plotdir+'/scarlet2fit'+chan+'.pdf')\n",
    "        plt.show()\n",
    "        plt.clf()"
   ]
  },
  {
   "cell_type": "code",
   "execution_count": null,
   "id": "a4fdc79b",
   "metadata": {},
   "outputs": [],
   "source": [
    "getgalaxySED=True\n",
    "if getgalaxySED==True:\n",
    "    wave = [4754,7711,6175]\n",
    "    out = np.column_stack((wave,scene_.sources[indtransient+1].spectrum.data))\n",
    "    fac = np.sum(scene_.sources[indtransient+1].morphology.data,axis=(-2,-1))\n",
    "    galquick = scene_.sources[indtransient+1].spectrum.data *fac\n",
    "    np.savetxt(plotdir+'/sed_quick.txt',np.asarray(out,dtype=str),fmt='%s')\n",
    "    plt.scatter(wave,scene_.sources[indtransient+1].spectrum.data,marker='.',linestyle='',label='Host galaxy')\n",
    "    plt.xlabel('Wavelength ($\\AA$)')\n",
    "    plt.ylabel('Flux')\n",
    "    plt.legend()\n",
    "    plt.savefig(plotdir+'/'+srcname+'_SED_GAL_quick.png')\n",
    "    plt.show()\n",
    "    plt.clf()\n",
    "    scene_.set_info(scene_.parameters.keys(), fixed=True)\n",
    "    print(scene_.sources[indtransient+1].spectrum.data)\n",
    "    scene_.set_info('sources.'+str(indtransient+1)+'.spectrum.data', fixed=False, prior=dist.Normal(np.clip(scene_.sources[indtransient+1].spectrum.data,a_min=bgsingle[0],a_max=1e6), 0.02*np.clip(scene_.sources[indtransient+1].spectrum.data,a_min=bgsingle[0]*5,a_max=1e6)))#prior=dist.Uniform(scene_.sources[0].spectrum.data-2.5,scene_.sources[0].spectrum.data+2.5))##01*scene.sources[5].spectrum.data))#dist.Uniform(scene_.sources[5].spectrum.data-2,scene_.sources[5].spectrum.data+2))\n",
    "    scene_.set_info('sources.'+str(indtransient)+'.spectrum.data', fixed=False, prior=dist.Normal(scene_.sources[indtransient].spectrum.data, np.clip(0.02*scene_.sources[indtransient].spectrum.data,a_min=1,a_max=200)))\n",
    "    mcmc = scene_.sample(observations_sc2,num_warmup=100, num_samples=200)\n",
    "    q = mcmc.get_samples()['sources.'+str(indtransient+1)+'.spectrum.data']\n",
    "    q1 = np.percentile(q,[2.5,16,50,84,97.5],axis=0)\n",
    "    fac = np.sum(scene_.sources[indtransient+1].morphology.data,axis=(-2,-1))\n",
    "    galfluxes = []\n",
    "    galfluxerrors = []\n",
    "    for i,b in zip(range(q1.shape[1]),bandind):\n",
    "        print(i,'median = ',q1[2][i],'std = ',(q1[4][i]-q1[0][i])/2)\n",
    "        galfluxes.append(q1[2][i]*fac)\n",
    "        galfluxerrors.append((q1[3][i]-q1[1][i])/2*fac)\n",
    "    mcmc.print_summary()\n",
    "\n",
    "    corner.corner(mcmc).show()\n",
    "    plt.savefig(plotdir+'/'+srcname+'_galflux_corner.png')\n",
    "    plt.show()\n",
    "    plt.clf()\n",
    "    sedgal = np.asfarray(galfluxes)\n",
    "    sedgalerr = np.asfarray(galfluxerrors)\n",
    "   \n",
    "    print(2.5*np.log10(63095734448.01944/sedgal))\n",
    "    plt.errorbar(wave,sedgal,yerr=sedgalerr,marker='.',linestyle='',label='Host galaxy')\n",
    "    plt.xlabel('Wavelength ($\\AA$)')\n",
    "    plt.ylabel('Flux')\n",
    "    plt.legend()\n",
    "    plt.savefig(plotdir+'/'+srcname+'_SED_GAL.png')\n",
    "    plt.show()\n",
    "    plt.clf()\n",
    "    outsedhead=['WAVE_CEN','GALFLUX','GALFLUXERR']\n",
    "    outsed=np.column_stack((wave,sedgal,sedgalerr))\n",
    "    outsed = np.vstack((outsedhead,outsed))\n",
    "    np.savetxt(plotdir+'/sed.txt',np.asarray(outsed,dtype=str),fmt='%s')"
   ]
  }
 ],
 "metadata": {
  "kernelspec": {
   "display_name": "scarlet [~/.conda/envs/scarlet/]",
   "language": "python",
   "name": "conda_scarlet"
  },
  "language_info": {
   "codemirror_mode": {
    "name": "ipython",
    "version": 3
   },
   "file_extension": ".py",
   "mimetype": "text/x-python",
   "name": "python",
   "nbconvert_exporter": "python",
   "pygments_lexer": "ipython3",
   "version": "3.10.10"
  }
 },
 "nbformat": 4,
 "nbformat_minor": 5
}
